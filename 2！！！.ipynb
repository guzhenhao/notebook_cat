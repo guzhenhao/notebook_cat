{
 "cells": [
  {
   "cell_type": "markdown",
   "metadata": {
    "hide_input": false,
    "id": "D940B3BDBD89495DA9E62606985CA6F9",
    "mdEditEnable": false
   },
   "source": [
    "# 2！！！"
   ]
  },
  {
   "cell_type": "code",
   "execution_count": 1,
   "metadata": {
    "hide_input": false,
    "id": "38816EEAB4564F6A88A81DBDCBA0EC1B",
    "scrolled": false
   },
   "outputs": [],
   "source": [
    "class Person:\n",
    "    \n",
    "    # 静态变量\n",
    "    nationality = 'Chinese!'\n",
    "    \n",
    "    # self：指对象自身\n",
    "    def __init__(self, x=\"Laoshan\", y=\"Xiuji\"): # \"Laoshan\", \"Xiuji\"是默认参数，会被手动指定的覆盖\n",
    "        # 实例变量(动态变量)\n",
    "        self.name = x\n",
    "        self.gender = y\n",
    "    \n",
    "    def baoguang(self):\n",
    "        print(self.__gender)"
   ]
  },
  {
   "cell_type": "markdown",
   "metadata": {
    "hide_input": false,
    "id": "A97C7E3CFFF74F46830ABB21A08E1AB5",
    "mdEditEnable": false
   },
   "source": [
    "# 0.3 lambda\n",
    "\n",
    "使用关键字 `lambda` 也可以生成函数。\n",
    "\n",
    "在下方用 lambda 来生成 0.0 中的函数。"
   ]
  },
  {
   "cell_type": "code",
   "execution_count": null,
   "metadata": {
    "hide_input": false,
    "id": "FB0AEAAB10964ADB8363696C0A5427A8",
    "scrolled": false
   },
   "outputs": [],
   "source": [
    "# 在此处完成作业\n",
    "lambda_potential = lambda s: int(next(num for num in s if '0' <= num <= '9'))"
   ]
  },
  {
   "cell_type": "code",
   "execution_count": null,
   "metadata": {
    "hide_input": false,
    "id": "5C05905F3381424B8E40CF755BCFCBC0",
    "scrolled": false
   },
   "outputs": [],
   "source": [
    "# 测试：2\n",
    "lambda_potential('you2be')"
   ]
  },
  {
   "cell_type": "markdown",
   "metadata": {
    "hide_input": false,
    "id": "DAC7C3BE90F44B688B34AA8CEA236C4E",
    "mdEditEnable": false
   },
   "source": [
    "# 0.4 匿名函数\n",
    "\n",
    "`lambda` 函数通常被称为匿名函数，使用匿名函数可以省去定义函数的步骤，同时也能避免函数、变量等的命名混乱。\n",
    "\n",
    "使用 `lambda` 实现 0.0 和 0.2 中的功能。"
   ]
  },
  {
   "cell_type": "code",
   "execution_count": null,
   "metadata": {
    "hide_input": false,
    "id": "00F6EC22CE1B412083DC996FCDAF3CA9",
    "scrolled": false
   },
   "outputs": [],
   "source": [
    "sorted([\"4chan\", \"o3o\", \"you2be\"], key=lambda s:\n",
    "       int(next(num for num in s if '0' <= num <= '9')))"
   ]
  },
  {
   "cell_type": "markdown",
   "metadata": {
    "hide_input": false,
    "id": "7C4CB57848FB42AB8586FB491E272C1B",
    "mdEditEnable": false
   },
   "source": [
    "# 0.5 正则表达式\n",
    "\n",
    "正则表达式可以用来匹配一定格式的文本。正则表达式需要导入 `re`。\n",
    "\n",
    "使用下方的正则表达式 `email_p`，判断字符串 `s` 是不是电子邮件，如果匹配成功，Notebook 将会输出一个匹配对象；如果失败，没有输出。\n",
    "\n",
    "选做：你可以尝试改良这个正则表达式，以匹配更多格式的电子邮件地址，比如 'xxx@yyy.edu.cn'。"
   ]
  },
  {
   "cell_type": "code",
   "execution_count": null,
   "metadata": {
    "hide_input": false,
    "id": "6200F283DA734232B63517F45BD7F2F9",
    "scrolled": false
   },
   "outputs": [],
   "source": [
    "import re\n",
    "\n",
    "email_p = r'^[0-9a-zA-Z_]{0,19}@[0-9a-zA-Z]{1,13}\\.[com,cn,net]{1,3}$'"
   ]
  },
  {
   "cell_type": "code",
   "execution_count": null,
   "metadata": {
    "hide_input": false,
    "id": "7CCEEA4FBA694363A5A843BF4E814871",
    "scrolled": false
   },
   "outputs": [],
   "source": [
    "s = 'iamsf@sijf.com'\n",
    "re.match(email_p, s)"
   ]
  },
  {
   "cell_type": "code",
   "execution_count": null,
   "metadata": {
    "hide_input": false,
    "id": "C172DF18C796402F8EFCB1983851116C",
    "scrolled": false
   },
   "outputs": [],
   "source": [
    "s = 'amsfiaojio'"
   ]
  },
  {
   "cell_type": "code",
   "execution_count": null,
   "metadata": {
    "hide_input": false,
    "id": "5C90DB0885A946F0831F2C5B8DF4F1E1",
    "scrolled": false
   },
   "outputs": [],
   "source": [
    "re.match(email_p, s)"
   ]
  },
  {
   "cell_type": "code",
   "execution_count": null,
   "metadata": {
    "hide_input": false,
    "id": "55946D568ACF48879067926FBEF08D16",
    "scrolled": false
   },
   "outputs": [],
   "source": [
    "s = 'asfasf@isafj.edu.cn'"
   ]
  },
  {
   "cell_type": "code",
   "execution_count": null,
   "metadata": {
    "hide_input": false,
    "id": "0E6B3B56644F4789BE5771CD47B92485",
    "scrolled": false
   },
   "outputs": [],
   "source": [
    "re.match(email_p, s)"
   ]
  },
  {
   "cell_type": "markdown",
   "metadata": {
    "hide_input": false,
    "id": "6E298E99403940B294467A686B593534",
    "mdEditEnable": false
   },
   "source": [
    "# 0.6 `import numpy`\n",
    "\n",
    "导入 `numpy`，因为后面要用。"
   ]
  },
  {
   "cell_type": "code",
   "execution_count": null,
   "metadata": {
    "hide_input": false,
    "id": "591EE6BE3D1C4C0D9BD5177504359EBB",
    "scrolled": false
   },
   "outputs": [],
   "source": [
    "import numpy as np"
   ]
  },
  {
   "cell_type": "markdown",
   "metadata": {
    "hide_input": false,
    "id": "5EC0E21A86EF461789CA8D9E1E4C93F7",
    "mdEditEnable": false
   },
   "source": [
    "# 1. 求总分\n",
    "\n",
    "经历过一次考试，每位学生的语数外三门课的成绩，都用列表表示：`[90,90,90]`。\n",
    "\n",
    "完成函数 `total_each(score_arr)`，`score_arr` 包含多位同学的成绩，形如：\n",
    "\n",
    "```python\n",
    "[ [60, 80,100],\n",
    "  [80, 70, 80],\n",
    "  [90, 90, 90] ]\n",
    "```\n",
    "\n",
    "算出每位同学的总分，将结果存入一个 `ndarray` 并返回。\n",
    "\n",
    "**注意**，请用 `numpy` 中的方法，求出所有同学的总分。\n",
    "\n",
    "```python\n",
    "输入 [[60, 80,100], [80, 70, 80], [90, 90, 90]]\n",
    "返回 array([240, 230, 270])\n",
    "```"
   ]
  },
  {
   "cell_type": "code",
   "execution_count": null,
   "metadata": {
    "hide_input": false,
    "id": "63CD2DF3E5FB4F76954EF742E1304295",
    "scrolled": false
   },
   "outputs": [],
   "source": [
    "# 提示\n",
    "arr = [ [0,0,0],\n",
    "        [1,1,1] ]\n",
    "np.sum(arr, 1)"
   ]
  },
  {
   "cell_type": "code",
   "execution_count": null,
   "metadata": {
    "hide_input": false,
    "id": "EE34CD649E254C298D7B96F029AE58A4",
    "scrolled": false
   },
   "outputs": [],
   "source": [
    "def total_each(score_arr):\n",
    "    return np.sum(score_arr,1)"
   ]
  },
  {
   "cell_type": "code",
   "execution_count": null,
   "metadata": {
    "hide_input": false,
    "id": "E63DA20AD3B34A3C8BCF3CB7D6FAF14C",
    "scrolled": false
   },
   "outputs": [],
   "source": [
    "# 测试：array([240, 230, 270])\n",
    "total_each([[60, 80,100], [80, 70, 80], [90, 90, 90]])"
   ]
  },
  {
   "cell_type": "markdown",
   "metadata": {
    "hide_input": false,
    "id": "324C6A1CA24D44E68525EF84A671BF33",
    "mdEditEnable": false
   },
   "source": [
    "# 2. 求班级各科平均分\n",
    "\n",
    "完成函数 `mean_course(score_arr)`，返回语数外三科的平均分。\n",
    "\n",
    "关于刚才的考试，现在需要求出各科的班级平均分，将结果存入一个 `ndarray` 并返回。比如：\n",
    "\n",
    "```python\n",
    "[ [60, 80,100],\n",
    "  [80, 70, 80],\n",
    "  [90, 90, 90] ]\n",
    "```\n",
    "\n",
    "语文平均分是 (60 + 80 + 90) / 3。\n",
    "\n",
    "**注意**，请用 `numpy` 中的方法。\n",
    "\n",
    "```python\n",
    "输入 [[60, 80,100], [80, 70, 80], [90, 90, 90]]\n",
    "返回 array([76.66666667, 80.        , 90.        ])\n",
    "```"
   ]
  },
  {
   "cell_type": "code",
   "execution_count": null,
   "metadata": {
    "hide_input": false,
    "id": "107C33096EB0424C8CC86238C71EFC31",
    "scrolled": false
   },
   "outputs": [],
   "source": [
    "import numpy as np\n",
    "# 提示\n",
    "lst = [ [1,2,3],\n",
    "        [1,2,3] ]\n",
    "np.mean(lst,0)"
   ]
  },
  {
   "cell_type": "code",
   "execution_count": null,
   "metadata": {
    "hide_input": false,
    "id": "59939F8CDEFA45AF92D04C9F04E41710",
    "scrolled": false
   },
   "outputs": [],
   "source": [
    "def mean_course(score_arr):\n",
    "    return np.mean(score_arr,0)"
   ]
  },
  {
   "cell_type": "code",
   "execution_count": null,
   "metadata": {
    "hide_input": false,
    "id": "0CDB76E8CE744C8A8309AEE2625921FC",
    "scrolled": false
   },
   "outputs": [],
   "source": [
    "# 测试：array([76.66666667, 80.        , 90.        ])\n",
    "mean_course([[60, 80,100], [80, 70, 80], [90, 90, 90]])"
   ]
  },
  {
   "cell_type": "markdown",
   "metadata": {
    "hide_input": false,
    "id": "CBE5CBD50C194C60B7E10561E2FBE84A",
    "mdEditEnable": false
   },
   "source": [
    "# 3. C 位出道\n",
    "\n",
    "如果总人数是奇数，C 位就只有一个人，如果是偶数，就要双 C 位。\n",
    "\n",
    "完成函数 `c_wei(s)`，参数 `s` 是只包含字母的字符串，返回位于中间的字符串。\n",
    "\n",
    "如果字符串总长是偶数，返回中间的两个字母。\n",
    "\n",
    "```\n",
    "输入 'world'\n",
    "返回 'r'\n",
    "\n",
    "输入 'sorrow'\n",
    "返回 'rr'\n",
    "```"
   ]
  },
  {
   "cell_type": "code",
   "execution_count": null,
   "metadata": {
    "hide_input": false,
    "id": "2F8D9D1C46C24B89A90992996DBC45DE",
    "scrolled": false
   },
   "outputs": [],
   "source": [
    "# 提示：偶数判断条件\n",
    "len('sorrow') % 2 == 0"
   ]
  },
  {
   "cell_type": "code",
   "execution_count": null,
   "metadata": {
    "hide_input": false,
    "id": "75C2CE86E939440A89EE8781DE8B48A0",
    "scrolled": false
   },
   "outputs": [],
   "source": [
    "def c_wei(s):\n",
    "    if len(s) % 2 != 0:\n",
    "        return s[len(s)%2+1]\n",
    "    else:\n",
    "        return s[len(s)//2-1:len(s)//2+1]"
   ]
  },
  {
   "cell_type": "code",
   "execution_count": null,
   "metadata": {
    "hide_input": false,
    "id": "370CD72DCF1845449EBA44AF6FE685CE",
    "scrolled": false
   },
   "outputs": [],
   "source": [
    "# 测试：'r'\n",
    "c_wei('world')"
   ]
  },
  {
   "cell_type": "code",
   "execution_count": null,
   "metadata": {
    "hide_input": false,
    "id": "A6125D34B97B4CC093C9C90F2791773B",
    "scrolled": false
   },
   "outputs": [],
   "source": [
    "# 测试：'rr'\n",
    "c_wei('sorrow')"
   ]
  },
  {
   "cell_type": "markdown",
   "metadata": {
    "hide_input": false,
    "id": "7DB150239F004BA98E1761C10B0FE7A8",
    "mdEditEnable": false
   },
   "source": [
    "# 4. 失散多年\n",
    "\n",
    "完成函数 `find_siblings(me, lst)`，`lst` 是一个列表，列表每一项都是只包含字母的字符串。`me` 是一个只包含字母的字符串。\n",
    "\n",
    "返回 `lst` 中所有的 `me` 的失散多年的兄/弟/姐/妹。\n",
    "\n",
    "兄弟姐妹判断条件：\n",
    "\n",
    "1. 包含的字母相同\n",
    "2. 各个字母的出现次数相同\n",
    "\n",
    "```\n",
    "输入 'shift', ['ifsht', 'shit', 'shitt', 'hisft']\n",
    "返回 ['ifsht', 'hisft']\n",
    "\n",
    "输入 'adam', ['dama', 'damn', 'mada', 'amd']\n",
    "返回 ['dama', 'mada']\n",
    "```"
   ]
  },
  {
   "cell_type": "code",
   "execution_count": null,
   "metadata": {
    "hide_input": false,
    "id": "56BDB07E78D74FDA848830D497566B92",
    "scrolled": false
   },
   "outputs": [],
   "source": [
    "# 提示\n",
    "sorted('adam') == sorted('dama')"
   ]
  },
  {
   "cell_type": "code",
   "execution_count": null,
   "metadata": {
    "hide_input": false,
    "id": "7BF2EB376C8F45A9A1D81EE8FE1A88A8",
    "scrolled": false
   },
   "outputs": [],
   "source": [
    "def find_siblings(me, lst):\n",
    "    me = sorted(me)\n",
    "    \n",
    "    ret_lst = []\n",
    "    for i in lst:\n",
    "        if me == sorted(i):\n",
    "            ret_lst.append(i)\n",
    "            \n",
    "    return ret_lst"
   ]
  },
  {
   "cell_type": "code",
   "execution_count": null,
   "metadata": {
    "hide_input": false,
    "id": "593668A269594BA1869EEF348A090967",
    "scrolled": false
   },
   "outputs": [],
   "source": [
    "# 测试：['ifsht', 'hisft']\n",
    "find_siblings('shift', ['ifsht', 'shit', 'shitt', 'hisft'])"
   ]
  },
  {
   "cell_type": "code",
   "execution_count": null,
   "metadata": {
    "hide_input": false,
    "id": "1F3C42669504420F9E27E8A6FF78560F",
    "scrolled": false
   },
   "outputs": [],
   "source": [
    "# 测试：['dama', 'mada']\n",
    "find_siblings('adam', ['dama', 'damn', 'mada', 'amd'])"
   ]
  },
  {
   "cell_type": "markdown",
   "metadata": {
    "hide_input": false,
    "id": "13AF80852C2B431D98DF8F2C2369FE67",
    "mdEditEnable": false
   },
   "source": [
    "# 5. 24 岁，是…学生\n",
    "\n",
    "创建类 `Student`。实例化 `Student`，把对象存入变量 `stu1`。\n",
    "\n",
    "**注意**，*对象*（object）又称*实例*（instance），是由*类*（class）*实例化*得到的。"
   ]
  },
  {
   "cell_type": "code",
   "execution_count": null,
   "metadata": {
    "hide_input": false,
    "id": "273BA956D4894CF683999ED3472E5D19",
    "scrolled": false
   },
   "outputs": [],
   "source": [
    "class Student: \n",
    "    def __init__(self,job,old):\n",
    "        self.job=job\n",
    "        self.old=old\n",
    "        \n",
    "        "
   ]
  },
  {
   "cell_type": "code",
   "execution_count": null,
   "metadata": {
    "hide_input": false,
    "id": "B12B3FA0EF1C48A393B17C10CE33FC02",
    "scrolled": false
   },
   "outputs": [],
   "source": [
    "stu1=Student('student', '24')"
   ]
  },
  {
   "cell_type": "code",
   "execution_count": null,
   "metadata": {
    "id": "411365606DD04FBC8C9C63DC9FEAD04D",
    "scrolled": false
   },
   "outputs": [],
   "source": [
    "stu1.job"
   ]
  },
  {
   "cell_type": "code",
   "execution_count": null,
   "metadata": {
    "id": "3E0EDD92447F43F782D2D7914B73EBB0",
    "scrolled": false
   },
   "outputs": [],
   "source": [
    "stu1.old"
   ]
  },
  {
   "cell_type": "markdown",
   "metadata": {
    "hide_input": false,
    "id": "2C22612E5F61462E8B7CD57AD42C935B",
    "mdEditEnable": false
   },
   "source": [
    "# 6. 变形计\n",
    "\n",
    "1. 修改上一题中类 `Student` 的定义：\n",
    "\n",
    "    1. 添加一个初始化方法，接收参数 `name`，作为属性保存。\n",
    "\n",
    "    2. 添加一个方法，名为 `study()`，方法的行为：输出 \"我{}就是饿死，死外边，从这里跳下去，不会学一次习。真香！\"，其中 {} 用 `name` 属性的值来替代。\n",
    "\n",
    "2. 实例化 `Student`，在初始化方法的参数中传入你的名字，存入变量 `stu2` 中。\n",
    "\n",
    "3. `print` `stu2` 的属性 `name`。\n",
    "\n",
    "4. 调用 `stu2` 的方法 `study()`。"
   ]
  },
  {
   "cell_type": "code",
   "execution_count": null,
   "metadata": {
    "hide_input": false,
    "id": "7947F3952DC548F58FBFA1FA82C39BA7",
    "scrolled": false
   },
   "outputs": [],
   "source": [
    "class Student:\n",
    "    def __init__(self, name):\n",
    "        self.name = name\n",
    "        \n",
    "    def study(self):\n",
    "        print('我{}就是饿死，死外边，从这里跳下去，不会学一次习。真香！'.format(stu2.name))"
   ]
  },
  {
   "cell_type": "code",
   "execution_count": null,
   "metadata": {
    "hide_input": false,
    "id": "34B6E7B4C2B3427D8CD152F48508B179",
    "scrolled": false
   },
   "outputs": [],
   "source": [
    "stu2 = Student('王境泽')\n",
    "print(stu2)\n",
    "stu2.name"
   ]
  },
  {
   "cell_type": "markdown",
   "metadata": {
    "hide_input": false,
    "id": "231928C3271B48E59C335174CE3E6E7C",
    "mdEditEnable": false
   },
   "source": [
    "# 7. 掰弯数组（选做）\n",
    "\n",
    "完成函数 `bend(lst, times)`，接收列表类型参数，列表中每一项都是整数。输出掰弯 `time` 次后的列表。\n",
    "\n",
    "例如：输入参数 [1,2,3,4,5] 和 2，即掰弯数组两次，输出结果应为 [9, 6]。\n",
    "\n",
    "掰弯一次的过程如下：\n",
    "\n",
    "```\n",
    "                     5/           5|         5\\          \n",
    "                    4/            4|          4\\      \n",
    "1 2 3 4 5      1 2 3/         1 2 3|       1 2 3\\       6 6 3\n",
    "----*----      ----*          ----*        ----*        ----*\n",
    "```"
   ]
  },
  {
   "cell_type": "markdown",
   "metadata": {
    "hide_input": false,
    "id": "97D745907AAA49E781D4E3C851C33350",
    "mdEditEnable": false
   },
   "source": [
    "### 基本解题思路\n",
    "\n",
    "折叠一次的过程：\n",
    "\n",
    "1. 设 `lst` 的长度为 `l`\n",
    "2. 将第 `0` 项与第 `l - (0+1)` 项相加，依次类推\n",
    "3. 将第 `i` 项与第 `l - (i+1)` 项相加\n",
    "4. 直到 `i` 的值为 `l // i`\n",
    "\n",
    "折叠 `times` 次。"
   ]
  },
  {
   "cell_type": "code",
   "execution_count": null,
   "metadata": {
    "hide_input": false,
    "id": "5190A269442A401093D386BDE0F528D4",
    "scrolled": false
   },
   "outputs": [],
   "source": [
    "def bend(lst, times):\n",
    "    for i in str(len(lst)):\n",
    "        i==0\n",
    "        lst[0]+lst[i-1]\n",
    "    \n",
    "    "
   ]
  },
  {
   "cell_type": "code",
   "execution_count": null,
   "metadata": {
    "hide_input": false,
    "id": "0F7B25714FB94FF48E40F805B8756AF9",
    "scrolled": false
   },
   "outputs": [],
   "source": [
    "# 测试：返回 [9, 6]\n",
    "bend([1, 2, 3, 4, 5], 1)"
   ]
  },
  {
   "cell_type": "code",
   "execution_count": null,
   "metadata": {
    "id": "ACC1E0308ACC42848D6A995861D5C1DE"
   },
   "outputs": [],
   "source": []
  }
 ],
 "metadata": {
  "kernelspec": {
   "display_name": "Python 3",
   "language": "python",
   "name": "python3"
  },
  "language_info": {
   "codemirror_mode": {
    "name": "ipython",
    "version": 3
   },
   "file_extension": ".py",
   "mimetype": "text/x-python",
   "name": "python",
   "nbconvert_exporter": "python",
   "pygments_lexer": "ipython3",
   "version": "3.6.6"
  }
 },
 "nbformat": 4,
 "nbformat_minor": 2
}
