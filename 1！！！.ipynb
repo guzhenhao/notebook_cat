{
 "cells": [
  {
   "cell_type": "markdown",
   "metadata": {
    "hide_input": false,
    "id": "D940B3BDBD89495DA9E62606985CA6F9",
    "mdEditEnable": false
   },
   "source": [
    "# 1！！！"
   ]
  },
  {
   "cell_type": "code",
   "execution_count": 1,
   "metadata": {
    "hide_input": false,
    "id": "38816EEAB4564F6A88A81DBDCBA0EC1B",
    "scrolled": false
   },
   "outputs": [],
   "source": [
    "class Person:\n",
    "    \n",
    "    # 静态变量\n",
    "    nationality = 'Chinese!'\n",
    "    \n",
    "    # self：指对象自身\n",
    "    def __init__(self, x=\"Laoshan\", y=\"Xiuji\"): # \"Laoshan\", \"Xiuji\"是默认参数，会被手动指定的覆盖\n",
    "        # 实例变量(动态变量)\n",
    "        self.name = x\n",
    "        self.gender = y\n",
    "    \n",
    "    def baoguang(self):\n",
    "        print(self.__gender)"
   ]
  },
  {
   "cell_type": "code",
   "execution_count": 2,
   "metadata": {
    "hide_input": false,
    "id": "0C47DBC1A8BB410B8E73D4F58F90C1D8",
    "scrolled": false
   },
   "outputs": [],
   "source": [
    "import numpy as np\n",
    "\n",
    "# 类：ndarray\n",
    "# 对象：arr\n",
    "arr = np.array([0,1,2])"
   ]
  },
  {
   "cell_type": "code",
   "execution_count": 3,
   "metadata": {
    "hide_input": false,
    "id": "5A5E41E26A474BA488D6B1B64CD79717",
    "scrolled": false
   },
   "outputs": [
    {
     "data": {
      "text/plain": [
       "(3,)"
      ]
     },
     "execution_count": 3,
     "metadata": {},
     "output_type": "execute_result"
    }
   ],
   "source": [
    "# ndarray类的属性\n",
    "arr.shape"
   ]
  },
  {
   "cell_type": "code",
   "execution_count": 4,
   "metadata": {
    "hide_input": false,
    "id": "6EEFF3603CBD41BEB3E22B5F501934B3",
    "scrolled": false
   },
   "outputs": [],
   "source": [
    "# 别忘了()\n",
    "# 有括号：类的实例化\n",
    "# 没括号：给Person起了个别称\n",
    "me = Person()"
   ]
  },
  {
   "cell_type": "code",
   "execution_count": 5,
   "metadata": {
    "hide_input": false,
    "id": "79DEDDE9EEB5457B98E8D31FF370957A",
    "scrolled": false
   },
   "outputs": [],
   "source": [
    "me = Person('Laowang', 'Male')"
   ]
  },
  {
   "cell_type": "code",
   "execution_count": 6,
   "metadata": {
    "hide_input": false,
    "id": "01E8F235BEF743B6815EA807F9427B6B",
    "scrolled": false
   },
   "outputs": [
    {
     "data": {
      "text/plain": [
       "'Laowang'"
      ]
     },
     "execution_count": 6,
     "metadata": {},
     "output_type": "execute_result"
    }
   ],
   "source": [
    "me.name"
   ]
  },
  {
   "cell_type": "code",
   "execution_count": 7,
   "metadata": {
    "hide_input": false,
    "id": "FB7A30E8D288442F82BC88253D9BA325",
    "scrolled": false
   },
   "outputs": [
    {
     "data": {
      "text/plain": [
       "'Male'"
      ]
     },
     "execution_count": 7,
     "metadata": {},
     "output_type": "execute_result"
    }
   ],
   "source": [
    "me.gender"
   ]
  },
  {
   "cell_type": "code",
   "execution_count": 8,
   "metadata": {
    "hide_input": false,
    "id": "8406C0C35FC3447AB87F8A90F0A9358D",
    "scrolled": false
   },
   "outputs": [],
   "source": [
    "you = Person('Xiaowang', 'Male')"
   ]
  },
  {
   "cell_type": "code",
   "execution_count": 9,
   "metadata": {
    "hide_input": false,
    "id": "0F37ED4EEC044C4C8E77F7E154709F68",
    "scrolled": false
   },
   "outputs": [
    {
     "data": {
      "text/plain": [
       "'Xiaowang'"
      ]
     },
     "execution_count": 9,
     "metadata": {},
     "output_type": "execute_result"
    }
   ],
   "source": [
    "you.name"
   ]
  },
  {
   "cell_type": "code",
   "execution_count": 10,
   "metadata": {
    "hide_input": false,
    "id": "04FDEFF420014BB98501BF501692A78D",
    "scrolled": false
   },
   "outputs": [
    {
     "data": {
      "text/plain": [
       "'Male'"
      ]
     },
     "execution_count": 10,
     "metadata": {},
     "output_type": "execute_result"
    }
   ],
   "source": [
    "you.gender"
   ]
  },
  {
   "cell_type": "code",
   "execution_count": 11,
   "metadata": {
    "hide_input": false,
    "id": "32046FC9BADD4199893B2FDC08F8B9EC",
    "scrolled": false
   },
   "outputs": [
    {
     "data": {
      "text/plain": [
       "'Chinese!'"
      ]
     },
     "execution_count": 11,
     "metadata": {},
     "output_type": "execute_result"
    }
   ],
   "source": [
    "me.nationality"
   ]
  },
  {
   "cell_type": "code",
   "execution_count": 12,
   "metadata": {
    "hide_input": false,
    "id": "0C7415245DDC4BDC8CB1A1CAFCE8F497",
    "scrolled": false
   },
   "outputs": [
    {
     "data": {
      "text/plain": [
       "'Chinese!'"
      ]
     },
     "execution_count": 12,
     "metadata": {},
     "output_type": "execute_result"
    }
   ],
   "source": [
    "you.nationality"
   ]
  },
  {
   "cell_type": "code",
   "execution_count": 13,
   "metadata": {
    "hide_input": false,
    "id": "217195BF16EE420A8784EA4E4F520943",
    "scrolled": false
   },
   "outputs": [
    {
     "ename": "AttributeError",
     "evalue": "'Person' object has no attribute '__gender'",
     "output_type": "error",
     "traceback": [
      "\u001b[1;31m---------------------------------------------------------------------------\u001b[0m",
      "\u001b[1;31mAttributeError\u001b[0m                            Traceback (most recent call last)",
      "\u001b[1;32m<ipython-input-13-4adb0812b18f>\u001b[0m in \u001b[0;36m<module>\u001b[1;34m()\u001b[0m\n\u001b[1;32m----> 1\u001b[1;33m \u001b[0mme\u001b[0m\u001b[1;33m.\u001b[0m\u001b[0m__gender\u001b[0m\u001b[1;33m\u001b[0m\u001b[0m\n\u001b[0m",
      "\u001b[1;31mAttributeError\u001b[0m: 'Person' object has no attribute '__gender'"
     ]
    }
   ],
   "source": [
    "me.__gender"
   ]
  },
  {
   "cell_type": "code",
   "execution_count": null,
   "metadata": {
    "hide_input": false,
    "id": "0A0E7682EAB643D7B6F10C71DEB0FA3E",
    "scrolled": false
   },
   "outputs": [],
   "source": [
    "me.baoguang()"
   ]
  },
  {
   "cell_type": "code",
   "execution_count": null,
   "metadata": {
    "hide_input": false,
    "id": "F25D49E54A5C4174AC63E92D4A7E7B05",
    "scrolled": false
   },
   "outputs": [],
   "source": [
    "help(Person)"
   ]
  },
  {
   "cell_type": "code",
   "execution_count": null,
   "metadata": {
    "hide_input": false,
    "id": "49B87316D3B744E696BB13001110E658",
    "scrolled": false
   },
   "outputs": [],
   "source": [
    "me.__dict__"
   ]
  },
  {
   "cell_type": "code",
   "execution_count": null,
   "metadata": {
    "hide_input": false,
    "id": "AF63F9F7D7FC48629F57FC8DC0ACBA79",
    "scrolled": false
   },
   "outputs": [],
   "source": []
  },
  {
   "cell_type": "markdown",
   "metadata": {
    "hide_input": false,
    "id": "F27F46D694134F88A5F611F34F8521C2",
    "mdEditEnable": false
   },
   "source": [
    "## 继承/派生"
   ]
  },
  {
   "cell_type": "code",
   "execution_count": null,
   "metadata": {
    "hide_input": false,
    "id": "0B53450785C441DF89A0BE16FB7CDC2A",
    "scrolled": false
   },
   "outputs": [],
   "source": [
    "class Person:\n",
    "    \n",
    "    def __init__(self, name, gender):\n",
    "        self.name\n",
    "        self.gender\n",
    "        \n",
    "    def eat(self):\n",
    "        print(\"真香\")\n",
    "        \n",
    "    def __sleep(self):\n",
    "        print(\"Zzz\")"
   ]
  },
  {
   "cell_type": "code",
   "execution_count": null,
   "metadata": {
    "hide_input": false,
    "id": "158DF17880174572B5B1298445F199CC",
    "scrolled": false
   },
   "outputs": [],
   "source": [
    "# ShehuiPerson继承了Person\n",
    "# Person派生出ShehuiPerson\n",
    "# Person是基类/父类\n",
    "# ShehuiPerson是子类\n",
    "class ShehuiPerson(Person):\n",
    "\n",
    "    def __init__(self, job, exp):\n",
    "        self.job = job\n",
    "        self.exp = exp\n",
    "    "
   ]
  },
  {
   "cell_type": "code",
   "execution_count": null,
   "metadata": {
    "hide_input": false,
    "id": "D4852CF2E4A4462089D868EFF9CEA5CA",
    "scrolled": false
   },
   "outputs": [],
   "source": [
    "# I是ShehuiPerson的一个对象（实例）\n",
    "I = ShehuiPerson('动画制作', 3)"
   ]
  },
  {
   "cell_type": "code",
   "execution_count": null,
   "metadata": {
    "hide_input": false,
    "id": "27E5B2BBD56D4F81B31BEEC70638A431",
    "scrolled": false
   },
   "outputs": [],
   "source": [
    "I.name"
   ]
  },
  {
   "cell_type": "code",
   "execution_count": null,
   "metadata": {
    "hide_input": false,
    "id": "E84523516239490483D6E687B95D69DB",
    "scrolled": false
   },
   "outputs": [],
   "source": [
    "I.job"
   ]
  },
  {
   "cell_type": "code",
   "execution_count": null,
   "metadata": {
    "hide_input": false,
    "id": "4B1C188AF9B74F589D0A51DEF739565B",
    "scrolled": false
   },
   "outputs": [],
   "source": [
    "I.exp"
   ]
  },
  {
   "cell_type": "code",
   "execution_count": null,
   "metadata": {
    "hide_input": false,
    "id": "C3BFACA53389459B9590015C1C4FA1C8",
    "scrolled": false
   },
   "outputs": [],
   "source": [
    "# .eat()是从Person继承而来的\n",
    "I.eat()"
   ]
  },
  {
   "cell_type": "code",
   "execution_count": null,
   "metadata": {
    "hide_input": false,
    "id": "B6850A146EC044F98D3875518D2314D9",
    "scrolled": false
   },
   "outputs": [],
   "source": [
    "# .__sleep()是私有方法\n",
    "I.__sleep()"
   ]
  },
  {
   "cell_type": "code",
   "execution_count": null,
   "metadata": {
    "hide_input": false,
    "id": "DF8C79D9C889465A89025306E14DD23A",
    "scrolled": false
   },
   "outputs": [],
   "source": [
    "from sklearn import datasets\n",
    "\n",
    "iris = datasets.load_iris()"
   ]
  },
  {
   "cell_type": "code",
   "execution_count": null,
   "metadata": {
    "hide_input": false,
    "id": "AA05CAC5AC944FA18D92BFE8EF868D10",
    "scrolled": true
   },
   "outputs": [],
   "source": [
    "iris"
   ]
  },
  {
   "cell_type": "code",
   "execution_count": null,
   "metadata": {
    "hide_input": false,
    "id": "C4A5F8651E18424FBBB050A33B6493B6",
    "scrolled": false
   },
   "outputs": [],
   "source": [
    "iris.target"
   ]
  },
  {
   "cell_type": "code",
   "execution_count": null,
   "metadata": {
    "hide_input": false,
    "id": "F0E3907ABBC5420D814583ABB246D7E0",
    "scrolled": false
   },
   "outputs": [],
   "source": [
    "iris['feature_names']"
   ]
  },
  {
   "cell_type": "code",
   "execution_count": null,
   "metadata": {
    "hide_input": false,
    "id": "B6A49FFB41CE466B8E626AE71D08FFD6",
    "scrolled": false
   },
   "outputs": [],
   "source": [
    "iris.feature_names"
   ]
  },
  {
   "cell_type": "code",
   "execution_count": null,
   "metadata": {
    "hide_input": false,
    "id": "553BE8B588A4432D88DC3CBB279FAD41",
    "scrolled": false
   },
   "outputs": [],
   "source": [
    "# 从sklearn里导入支持向量机算法类\n",
    "from sklearn import svm"
   ]
  },
  {
   "cell_type": "code",
   "execution_count": null,
   "metadata": {
    "hide_input": false,
    "id": "F06250B2DA1B4325A3D4EE6CB3D21212",
    "scrolled": false
   },
   "outputs": [],
   "source": [
    "# 新建了类SVC的实例clf\n",
    "clf = svm.SVC(C=0.5)"
   ]
  },
  {
   "cell_type": "code",
   "execution_count": null,
   "metadata": {
    "hide_input": false,
    "id": "F1D9476E061944C19CFEC7BFE1144F73",
    "scrolled": false
   },
   "outputs": [],
   "source": [
    "# 训练过程\n",
    "clf.fit(iris.data[9:], iris.target[9:])"
   ]
  },
  {
   "cell_type": "code",
   "execution_count": null,
   "metadata": {
    "hide_input": false,
    "id": "FCD01070400E4A1187E3C0D470B25E8A",
    "scrolled": false
   },
   "outputs": [],
   "source": [
    "iris.data[:9]"
   ]
  },
  {
   "cell_type": "code",
   "execution_count": null,
   "metadata": {
    "hide_input": false,
    "id": "EBAA9233465149088D4FFC221081AC9D",
    "scrolled": false
   },
   "outputs": [],
   "source": [
    "# ground truth\n",
    "iris.target[:9]"
   ]
  },
  {
   "cell_type": "code",
   "execution_count": null,
   "metadata": {
    "hide_input": false,
    "id": "A41719F2DE0644FCA963BDE3FDC96A81",
    "scrolled": false
   },
   "outputs": [],
   "source": [
    "# predictions\n",
    "# predict()方法，返回预测结果\n",
    "clf.predict(iris.data[:9])"
   ]
  },
  {
   "cell_type": "code",
   "execution_count": null,
   "metadata": {
    "hide_input": false,
    "id": "9C0CAC63BB2E451D89BD5E0755B1ED7F",
    "scrolled": false
   },
   "outputs": [],
   "source": [
    "help(sorted)"
   ]
  },
  {
   "cell_type": "markdown",
   "metadata": {
    "hide_input": false,
    "id": "A3A1A83201CC46FC8D11F8BBE79C6962",
    "mdEditEnable": false
   },
   "source": [
    "# 正则表达式\n",
    "https://regexr.com/"
   ]
  },
  {
   "cell_type": "code",
   "execution_count": null,
   "metadata": {
    "hide_input": false,
    "id": "A508319FCC48432D8C3B0492D44B906A",
    "scrolled": false
   },
   "outputs": [],
   "source": [
    "def potential(s):\n",
    "    for c in s:\n",
    "        #if '0' <= c <= '9':\n",
    "        if c.isdigit():\n",
    "            return int(c)"
   ]
  },
  {
   "cell_type": "code",
   "execution_count": null,
   "metadata": {
    "hide_input": false,
    "id": "AD98C110E98341A386A33B39427069FF",
    "scrolled": false
   },
   "outputs": [],
   "source": [
    "'4'.isdigit()"
   ]
  },
  {
   "cell_type": "code",
   "execution_count": null,
   "metadata": {
    "hide_input": false,
    "id": "D81299F8AB104C5EBE8C644FF3312CA7",
    "scrolled": false
   },
   "outputs": [],
   "source": [
    "def potential_sorted(str_lst):\n",
    "    \n",
    "    # 新建空字典\n",
    "    s_potential = {}        \n",
    "    for s in str_lst:\n",
    "        s_potential[potential(s)] = s\n",
    "    \n",
    "    print(s_potential)\n",
    "    \n",
    "    ret_lst = []\n",
    "    for num in sorted(s_potential):\n",
    "        ret_lst.append(s_potential[num])\n",
    "        \n",
    "    return ret_lst"
   ]
  },
  {
   "cell_type": "code",
   "execution_count": null,
   "metadata": {
    "hide_input": false,
    "id": "8C946E5E63C44C34A9830AE1176FCB48",
    "scrolled": false
   },
   "outputs": [],
   "source": [
    "potential_sorted([\"4chan\", \"o3o\", \"you2be\"])"
   ]
  },
  {
   "cell_type": "code",
   "execution_count": null,
   "metadata": {
    "hide_input": false,
    "id": "14719632517445D789844C331076B2B5",
    "scrolled": false
   },
   "outputs": [],
   "source": [
    "sorted({2: 'you2be', 3: 'o3o', 4: '4chan'})"
   ]
  },
  {
   "cell_type": "code",
   "execution_count": null,
   "metadata": {
    "hide_input": false,
    "id": "C7A41CAF2BC14F3E845BE4204A7E4A0D",
    "scrolled": false
   },
   "outputs": [],
   "source": [
    "potential_sorted(['sto9', 'tr4eating', '8me', 'l1ke', 'that3'])"
   ]
  },
  {
   "cell_type": "code",
   "execution_count": null,
   "metadata": {
    "hide_input": false,
    "id": "31513CC56191467C84FE4B6F1A46AE8F",
    "scrolled": false
   },
   "outputs": [],
   "source": [
    "# potential函数：字符串 --映射--> 字符串中含有的数字(int)\n",
    "# sorted(<>, key=<function>)，以映射之后的序列为依据排序\n",
    "def potential_sorted_v2(str_lst):\n",
    "    return sorted(str_lst, key=potential)"
   ]
  },
  {
   "cell_type": "code",
   "execution_count": null,
   "metadata": {
    "hide_input": false,
    "id": "C8C344C0B0DD4ABB8F6D74AD082798A0",
    "scrolled": false
   },
   "outputs": [],
   "source": [
    "lst = [2,1,0,-3,-4]"
   ]
  },
  {
   "cell_type": "code",
   "execution_count": null,
   "metadata": {
    "hide_input": false,
    "id": "2E6725B37FD04E7A8904C1BA8F6A5AD7",
    "scrolled": false
   },
   "outputs": [],
   "source": [
    "def square(x):\n",
    "    return x ** 2"
   ]
  },
  {
   "cell_type": "code",
   "execution_count": null,
   "metadata": {
    "hide_input": false,
    "id": "BD2EE798979B4B2C9E4A3A3D1CBA4C02",
    "scrolled": false
   },
   "outputs": [],
   "source": [
    "sorted(lst, key=square)"
   ]
  },
  {
   "cell_type": "code",
   "execution_count": null,
   "metadata": {
    "hide_input": false,
    "id": "034C8DC1A3E04DE0BD7819580513450C",
    "scrolled": false
   },
   "outputs": [],
   "source": [
    "# Regular Expression\n",
    "import re"
   ]
  },
  {
   "cell_type": "code",
   "execution_count": null,
   "metadata": {
    "hide_input": false,
    "id": "BBE7A8C263D84BF98DB51A6FC9601D72",
    "scrolled": false
   },
   "outputs": [],
   "source": [
    "# re.search(<正则表达式>, <目标文本>)\n",
    "re.search('\\d', 'l1ke')"
   ]
  },
  {
   "cell_type": "code",
   "execution_count": null,
   "metadata": {
    "hide_input": false,
    "id": "AC27A24D1B5E417FB1208591CC14A150",
    "scrolled": false
   },
   "outputs": [],
   "source": [
    "re.search('\\d', 'l1ke').group()"
   ]
  },
  {
   "cell_type": "code",
   "execution_count": null,
   "metadata": {
    "hide_input": false,
    "id": "C72E0BFDAD074601847BCD378D51ABD8",
    "scrolled": false
   },
   "outputs": [],
   "source": [
    "re.search('\\d', 'l1keyou2be4chan').group()"
   ]
  },
  {
   "cell_type": "code",
   "execution_count": null,
   "metadata": {
    "hide_input": false,
    "id": "AFCE80D8A8794BBAAC18ABCE88C61555",
    "scrolled": false
   },
   "outputs": [],
   "source": [
    "re.findall('\\d', 'lkeyoubechan')"
   ]
  },
  {
   "cell_type": "code",
   "execution_count": null,
   "metadata": {
    "hide_input": false,
    "id": "B2ACD6D5BD48478385CF62C89E613454",
    "scrolled": false
   },
   "outputs": [],
   "source": [
    "# re.sub(<正则表达式>, <替换文本>, <目标文本>)\n",
    "re.sub('\\d', '#', 'l1keyou2be4chan')"
   ]
  },
  {
   "cell_type": "code",
   "execution_count": null,
   "metadata": {
    "hide_input": false,
    "id": "821661B574FE42B29F9B9F3B62DED9CD",
    "scrolled": false
   },
   "outputs": [],
   "source": [
    "re.sub('\\d', '#', 'l1keyou2be4chan', count=2)"
   ]
  },
  {
   "cell_type": "code",
   "execution_count": null,
   "metadata": {
    "hide_input": false,
    "id": "4E16D9AB395D4BB88A836480C6D847A0",
    "scrolled": false
   },
   "outputs": [],
   "source": [
    "re.search('\\d', 'like') == None"
   ]
  },
  {
   "cell_type": "code",
   "execution_count": null,
   "metadata": {
    "hide_input": false,
    "id": "6F4F03A7D99E47AD8A78E8D3C725E826",
    "scrolled": false
   },
   "outputs": [],
   "source": [
    "def potential(s):\n",
    "    return int(re.search('\\d', s).group())\n",
    "    \n",
    "def potential_sorted_v2(str_lst):\n",
    "    return sorted(str_lst, key=potential)"
   ]
  },
  {
   "cell_type": "code",
   "execution_count": null,
   "metadata": {
    "hide_input": false,
    "id": "855480D305554A3483264EA81E80D38D",
    "scrolled": false
   },
   "outputs": [],
   "source": [
    "potential_sorted_v2([\"4chan\", \"o3o\", \"you2be\"])"
   ]
  },
  {
   "cell_type": "code",
   "execution_count": null,
   "metadata": {
    "hide_input": false,
    "id": "5534121EA6BD4F9881E4D49F7E072D99",
    "scrolled": false
   },
   "outputs": [],
   "source": [
    "potential_sorted_v2(['sto9', 'tr4eating', '8me', 'l1ke', 'that3'])"
   ]
  },
  {
   "cell_type": "markdown",
   "metadata": {
    "hide_input": false,
    "id": "DE00D76E1FC9437C977952A758AAC365",
    "mdEditEnable": false
   },
   "source": [
    "# 匿名函数"
   ]
  },
  {
   "cell_type": "code",
   "execution_count": null,
   "metadata": {
    "hide_input": false,
    "id": "EE99D9AC5D53456B80B8423BB9B62744",
    "scrolled": false
   },
   "outputs": [],
   "source": [
    "# x映射到x**2\n",
    "sorted(lst, key=lambda x:x ** 2)"
   ]
  },
  {
   "cell_type": "code",
   "execution_count": null,
   "metadata": {
    "hide_input": false,
    "id": "4343BB2A85A1426882CE06263D34255A",
    "scrolled": false
   },
   "outputs": [],
   "source": [
    "def potential_sorted_v3(str_lst):\n",
    "    return sorted(str_lst, key=lambda s:int(re.search('\\d', s).group()))"
   ]
  },
  {
   "cell_type": "code",
   "execution_count": null,
   "metadata": {
    "hide_input": false,
    "id": "640472B5B2204BF785EDF5ADEA2B03E6",
    "scrolled": false
   },
   "outputs": [],
   "source": [
    "potential_sorted_v3(['s2to9', 'tr4eat4i2ng', '8m6e', 'l1k7e', 'th1at3'])"
   ]
  },
  {
   "cell_type": "code",
   "execution_count": null,
   "metadata": {
    "hide_input": false,
    "id": "E83639D312A54CE58AD2003479F2C31F",
    "scrolled": false
   },
   "outputs": [],
   "source": [
    "def potential_sorted_v4(str_lst):\n",
    "    return sorted(str_lst, key=lambda s:max(re.findall('\\d', s)))"
   ]
  },
  {
   "cell_type": "code",
   "execution_count": null,
   "metadata": {
    "hide_input": false,
    "id": "943F566F16AD4E4E868E210D6F17EFF5",
    "scrolled": false
   },
   "outputs": [],
   "source": [
    "potential_sorted_v4(['s2to9', 'tr4eat4i2ng', '8m6e', 'l1k7e', 'th1at3'])"
   ]
  },
  {
   "cell_type": "markdown",
   "metadata": {
    "hide_input": false,
    "id": "71DFD4D228D144A58DBAE2C4BD086C83",
    "mdEditEnable": false
   },
   "source": [
    "## 找出邮件中的所有邮箱"
   ]
  },
  {
   "cell_type": "code",
   "execution_count": null,
   "metadata": {
    "hide_input": false,
    "id": "C23B49D0EDBF4C7B8470467729FAA079",
    "scrolled": false
   },
   "outputs": [],
   "source": [
    "spam_sample = '''\n",
    "Received: from 163.con ([61.141.165.252])\n",
    "\tby spam-gw.ccert.edu.cn (MIMEDefang) with ESMTP id j7CHJ2B9028021\n",
    "\tfor <xing@ccert.edu.cn>; Sun, 14 Aug 2005 10:04:03 +0800 (CST)\n",
    "Message-ID: <200508130119.j7CHJ2B9028021@spam-gw.ccert.edu.cn>\n",
    "From: =?GB2312?B?1cW6o8TP?= <jian@163.con>\n",
    "Subject: =?gb2312?B?uavLvtK1zvEutPq/qreixrGjoQ==?=\n",
    "To: xing@ccert.edu.cn\n",
    "Content-Type: text/plain;charset=\"GB2312\"\n",
    "Date: Sun, 14 Aug 2005 10:17:57 +0800\n",
    "X-Priority: 2\n",
    "X-Mailer: Microsoft Outlook Express 5.50.4133.2400\n",
    "\n",
    "尊敬的贵公司(财务/经理)负责人您好！  \n",
    "        我是深圳金海实业有限公司（广州。东莞）等省市有分公司。  \n",
    "    我司有良好的社会关系和实力，因每月进项多出项少现有一部分  \n",
    "    发票可优惠对外代开税率较低，增值税发票为5%其它国税.地税.     \n",
    "    运输.广告等普通发票为1.5%的税点，还可以根据数目大小来衡  \n",
    "    量优惠的多少，希望贵公司.商家等来电商谈欢迎合作。\n",
    "   \n",
    "       本公司郑重承诺所用票据可到税务局验证或抵扣！\n",
    "    欢迎来电进一步商谈。\n",
    "    电话：13826556538（24小时服务）\n",
    "    信箱：szlianfen@163.com\n",
    "    联系人：张海南\n",
    "\n",
    "               \n",
    "       顺祝商祺   \n",
    "                 \n",
    "\n",
    "                   深圳市金海实业有限公司\n",
    "\n",
    "\n",
    "'''"
   ]
  },
  {
   "cell_type": "code",
   "execution_count": null,
   "metadata": {
    "hide_input": false,
    "id": "C23FE2B420AA4476A67E50FAFF33F6B2",
    "scrolled": true
   },
   "outputs": [],
   "source": [
    "re.findall('[\\w.]+@\\w+[.\\w]{2,4}', spam_sample)"
   ]
  },
  {
   "cell_type": "code",
   "execution_count": null,
   "metadata": {
    "hide_input": false,
    "id": "777FF83760ED4C6C8B6CAF785D2D8192",
    "scrolled": false
   },
   "outputs": [],
   "source": []
  },
  {
   "cell_type": "code",
   "execution_count": null,
   "metadata": {
    "hide_input": false,
    "id": "FEA8AEB45A73496486B2103FADE47273",
    "scrolled": false
   },
   "outputs": [],
   "source": [
    "import requests"
   ]
  },
  {
   "cell_type": "code",
   "execution_count": null,
   "metadata": {
    "hide_input": false,
    "id": "339EEC722E99424EBCE487FD21A07744",
    "scrolled": false
   },
   "outputs": [],
   "source": [
    "response = requests.get('http://www.people.com.cn/')"
   ]
  },
  {
   "cell_type": "code",
   "execution_count": null,
   "metadata": {
    "hide_input": false,
    "id": "E7D23979013B4F829DCB93DB0652C2C5",
    "scrolled": false
   },
   "outputs": [],
   "source": [
    "response.status_code"
   ]
  },
  {
   "cell_type": "code",
   "execution_count": null,
   "metadata": {
    "hide_input": false,
    "id": "E821003A5B824CB487628129B02E1DDF",
    "scrolled": false
   },
   "outputs": [],
   "source": [
    "response.encoding = 'GBK'"
   ]
  },
  {
   "cell_type": "code",
   "execution_count": null,
   "metadata": {
    "hide_input": false,
    "id": "4E412330E9DF40AB86CC23AE80CB0FBC",
    "scrolled": false
   },
   "outputs": [],
   "source": [
    "html_doc = response.text\n",
    "html_doc"
   ]
  },
  {
   "cell_type": "code",
   "execution_count": null,
   "metadata": {
    "hide_input": false,
    "id": "2884E701D8964CAE81A86F8FD26BD27C"
   },
   "outputs": [],
   "source": []
  },
  {
   "cell_type": "code",
   "execution_count": null,
   "metadata": {
    "hide_input": false,
    "id": "BA9730A988864C33B5387A94E7CA94EE"
   },
   "outputs": [],
   "source": []
  },
  {
   "cell_type": "markdown",
   "metadata": {
    "hide_input": false,
    "id": "23B6CC2D1A054E4BABFF0203D02F26C8",
    "mdEditEnable": false
   },
   "source": [
    "# 0.0 定义函数\n",
    "\n",
    "定义函数 `find_potential(s)`，参数 `s` 是一个字符串，字符串由多个字母和一个数字组成，我们称字符串中的数字为字符串的“潜力”。\n",
    "\n",
    "函数以整数形式返回 `s` 的潜力。\n",
    "\n",
    "分别用 for 循环和列表推导式的方式来完成。"
   ]
  },
  {
   "cell_type": "code",
   "execution_count": null,
   "metadata": {
    "hide_input": false,
    "id": "A50432723B7C488F9B62C949D41D61B0",
    "scrolled": false
   },
   "outputs": [],
   "source": [
    "# 用 for 循环\n",
    "def find_potential(s):\n",
    "    for num in s:\n",
    "        if '0' <= num <= '9':\n",
    "            return int(num)"
   ]
  },
  {
   "cell_type": "code",
   "execution_count": null,
   "metadata": {
    "hide_input": false,
    "id": "9DAD907DB8744A838A3D5E637C2EDE89",
    "scrolled": false
   },
   "outputs": [],
   "source": [
    "# 用列表推导式\n",
    "def find_potential(s):\n",
    "    return int(next(num for num in s if '0' <= num <= '9'))"
   ]
  },
  {
   "cell_type": "code",
   "execution_count": null,
   "metadata": {
    "hide_input": false,
    "id": "1930D2576E2046D18D511D0BF81DAA9A",
    "scrolled": false
   },
   "outputs": [],
   "source": [
    "# 测试：2\n",
    "find_potential('you2be')"
   ]
  },
  {
   "cell_type": "code",
   "execution_count": null,
   "metadata": {
    "hide_input": false,
    "id": "75B637D03E094BB9964EB47EEDD32BA4",
    "scrolled": false
   },
   "outputs": [],
   "source": [
    "type(next)"
   ]
  },
  {
   "cell_type": "markdown",
   "metadata": {
    "hide_input": false,
    "id": "8E22D5C4936B4EDA8FC3F34542CC8341",
    "mdEditEnable": false
   },
   "source": [
    "# 0.1 调用函数\n",
    "\n",
    "完成函数 `potential_lst(lst)`，使用上一题中的 `find_potential(s)` 函数，找出 `lst` 中所有“潜力字符串”的“潜力”，以整数列表的形式返回所有潜力。"
   ]
  },
  {
   "cell_type": "code",
   "execution_count": null,
   "metadata": {
    "hide_input": false,
    "id": "2053771095F5412DAD5149A06ADA9B99",
    "scrolled": false
   },
   "outputs": [],
   "source": [
    "def potential_lst(lst):\n",
    "    ret_lst = []\n",
    "    for s in lst:\n",
    "        ret_lst.append(find_potential(s))\n",
    "    return ret_lst"
   ]
  },
  {
   "cell_type": "code",
   "execution_count": null,
   "metadata": {
    "hide_input": false,
    "id": "EA82A95BC9474F5581CDE6E973830777",
    "scrolled": false
   },
   "outputs": [],
   "source": [
    "# 测试：[4, 3, 2]\n",
    "potential_lst([\"4chan\", \"o3o\", \"you2be\"])"
   ]
  },
  {
   "cell_type": "markdown",
   "metadata": {
    "hide_input": false,
    "id": "38C0B64E7B6345BB8F3AC115F51C6D0F",
    "mdEditEnable": false
   },
   "source": [
    "# 0.2 函数是对象\n",
    "\n",
    "`sorted` 函数返回一个有序的列表，例如 `sorted([4, 3, 2])` 返回 `[2, 3, 4]`。但它不能将字符串按照潜力进行排序。\n",
    "\n",
    "实际上 `sorted()` 函数可以接收一个名为 `key` 参数，接收一个函数对象。\n",
    "\n",
    "使用 `sorted()` 方法完成 `#4` 中的选做题“潜力排序”。"
   ]
  },
  {
   "cell_type": "code",
   "execution_count": null,
   "metadata": {
    "hide_input": false,
    "id": "9373935014404535934A06AF86E58EB2",
    "scrolled": false
   },
   "outputs": [],
   "source": [
    "# 测试：['you2be', 'o3o', '4chan']\n",
    "sorted([\"4chan\", \"o3o\", \"you2be\"], key=find_potential)"
   ]
  },
  {
   "cell_type": "code",
   "execution_count": null,
   "metadata": {
    "id": "95EEE96F93B74846826C350665850D6F",
    "scrolled": false
   },
   "outputs": [],
   "source": []
  },
  {
   "cell_type": "markdown",
   "metadata": {
    "hide_input": false,
    "id": "A97C7E3CFFF74F46830ABB21A08E1AB5",
    "mdEditEnable": false
   },
   "source": [
    "# 0.3 lambda\n",
    "\n",
    "使用关键字 `lambda` 也可以生成函数。\n",
    "\n",
    "在下方用 lambda 来生成 0.0 中的函数。"
   ]
  },
  {
   "cell_type": "code",
   "execution_count": null,
   "metadata": {
    "hide_input": false,
    "id": "FB0AEAAB10964ADB8363696C0A5427A8",
    "scrolled": false
   },
   "outputs": [],
   "source": [
    "# 在此处完成作业\n",
    "lambda_potential = lambda s: int(next(num for num in s if '0' <= num <= '9'))"
   ]
  },
  {
   "cell_type": "code",
   "execution_count": null,
   "metadata": {
    "hide_input": false,
    "id": "5C05905F3381424B8E40CF755BCFCBC0",
    "scrolled": false
   },
   "outputs": [],
   "source": [
    "# 测试：2\n",
    "lambda_potential('you2be')"
   ]
  },
  {
   "cell_type": "markdown",
   "metadata": {
    "hide_input": false,
    "id": "DAC7C3BE90F44B688B34AA8CEA236C4E",
    "mdEditEnable": false
   },
   "source": [
    "# 0.4 匿名函数\n",
    "\n",
    "`lambda` 函数通常被称为匿名函数，使用匿名函数可以省去定义函数的步骤，同时也能避免函数、变量等的命名混乱。\n",
    "\n",
    "使用 `lambda` 实现 0.0 和 0.2 中的功能。"
   ]
  },
  {
   "cell_type": "code",
   "execution_count": null,
   "metadata": {
    "hide_input": false,
    "id": "00F6EC22CE1B412083DC996FCDAF3CA9",
    "scrolled": false
   },
   "outputs": [],
   "source": [
    "sorted([\"4chan\", \"o3o\", \"you2be\"], key=lambda s:\n",
    "       int(next(num for num in s if '0' <= num <= '9')))"
   ]
  },
  {
   "cell_type": "markdown",
   "metadata": {
    "hide_input": false,
    "id": "7C4CB57848FB42AB8586FB491E272C1B",
    "mdEditEnable": false
   },
   "source": [
    "# 0.5 正则表达式\n",
    "\n",
    "正则表达式可以用来匹配一定格式的文本。正则表达式需要导入 `re`。\n",
    "\n",
    "使用下方的正则表达式 `email_p`，判断字符串 `s` 是不是电子邮件，如果匹配成功，Notebook 将会输出一个匹配对象；如果失败，没有输出。\n",
    "\n",
    "选做：你可以尝试改良这个正则表达式，以匹配更多格式的电子邮件地址，比如 'xxx@yyy.edu.cn'。"
   ]
  },
  {
   "cell_type": "code",
   "execution_count": null,
   "metadata": {
    "hide_input": false,
    "id": "6200F283DA734232B63517F45BD7F2F9",
    "scrolled": false
   },
   "outputs": [],
   "source": [
    "import re\n",
    "\n",
    "email_p = r'^[0-9a-zA-Z_]{0,19}@[0-9a-zA-Z]{1,13}\\.[com,cn,net]{1,3}$'"
   ]
  },
  {
   "cell_type": "code",
   "execution_count": null,
   "metadata": {
    "hide_input": false,
    "id": "7CCEEA4FBA694363A5A843BF4E814871",
    "scrolled": false
   },
   "outputs": [],
   "source": [
    "s = 'iamsf@sijf.com'\n",
    "re.match(email_p, s)"
   ]
  },
  {
   "cell_type": "code",
   "execution_count": null,
   "metadata": {
    "hide_input": false,
    "id": "C172DF18C796402F8EFCB1983851116C",
    "scrolled": false
   },
   "outputs": [],
   "source": [
    "s = 'amsfiaojio'"
   ]
  },
  {
   "cell_type": "code",
   "execution_count": null,
   "metadata": {
    "hide_input": false,
    "id": "5C90DB0885A946F0831F2C5B8DF4F1E1",
    "scrolled": false
   },
   "outputs": [],
   "source": [
    "re.match(email_p, s)"
   ]
  },
  {
   "cell_type": "code",
   "execution_count": null,
   "metadata": {
    "hide_input": false,
    "id": "55946D568ACF48879067926FBEF08D16",
    "scrolled": false
   },
   "outputs": [],
   "source": [
    "s = 'asfasf@isafj.edu.cn'"
   ]
  },
  {
   "cell_type": "code",
   "execution_count": null,
   "metadata": {
    "hide_input": false,
    "id": "0E6B3B56644F4789BE5771CD47B92485",
    "scrolled": false
   },
   "outputs": [],
   "source": [
    "re.match(email_p, s)"
   ]
  },
  {
   "cell_type": "markdown",
   "metadata": {
    "hide_input": false,
    "id": "6E298E99403940B294467A686B593534",
    "mdEditEnable": false
   },
   "source": [
    "# 0.6 `import numpy`\n",
    "\n",
    "导入 `numpy`，因为后面要用。"
   ]
  },
  {
   "cell_type": "code",
   "execution_count": null,
   "metadata": {
    "hide_input": false,
    "id": "591EE6BE3D1C4C0D9BD5177504359EBB",
    "scrolled": false
   },
   "outputs": [],
   "source": [
    "import numpy as np"
   ]
  },
  {
   "cell_type": "markdown",
   "metadata": {
    "hide_input": false,
    "id": "5EC0E21A86EF461789CA8D9E1E4C93F7",
    "mdEditEnable": false
   },
   "source": [
    "# 1. 求总分\n",
    "\n",
    "经历过一次考试，每位学生的语数外三门课的成绩，都用列表表示：`[90,90,90]`。\n",
    "\n",
    "完成函数 `total_each(score_arr)`，`score_arr` 包含多位同学的成绩，形如：\n",
    "\n",
    "```python\n",
    "[ [60, 80,100],\n",
    "  [80, 70, 80],\n",
    "  [90, 90, 90] ]\n",
    "```\n",
    "\n",
    "算出每位同学的总分，将结果存入一个 `ndarray` 并返回。\n",
    "\n",
    "**注意**，请用 `numpy` 中的方法，求出所有同学的总分。\n",
    "\n",
    "```python\n",
    "输入 [[60, 80,100], [80, 70, 80], [90, 90, 90]]\n",
    "返回 array([240, 230, 270])\n",
    "```"
   ]
  },
  {
   "cell_type": "code",
   "execution_count": null,
   "metadata": {
    "hide_input": false,
    "id": "63CD2DF3E5FB4F76954EF742E1304295",
    "scrolled": false
   },
   "outputs": [],
   "source": [
    "# 提示\n",
    "arr = [ [0,0,0],\n",
    "        [1,1,1] ]\n",
    "np.sum(arr, 1)"
   ]
  },
  {
   "cell_type": "code",
   "execution_count": null,
   "metadata": {
    "hide_input": false,
    "id": "EE34CD649E254C298D7B96F029AE58A4",
    "scrolled": false
   },
   "outputs": [],
   "source": [
    "def total_each(score_arr):\n",
    "    return np.sum(score_arr,1)"
   ]
  },
  {
   "cell_type": "code",
   "execution_count": null,
   "metadata": {
    "hide_input": false,
    "id": "E63DA20AD3B34A3C8BCF3CB7D6FAF14C",
    "scrolled": false
   },
   "outputs": [],
   "source": [
    "# 测试：array([240, 230, 270])\n",
    "total_each([[60, 80,100], [80, 70, 80], [90, 90, 90]])"
   ]
  },
  {
   "cell_type": "markdown",
   "metadata": {
    "hide_input": false,
    "id": "324C6A1CA24D44E68525EF84A671BF33",
    "mdEditEnable": false
   },
   "source": [
    "# 2. 求班级各科平均分\n",
    "\n",
    "完成函数 `mean_course(score_arr)`，返回语数外三科的平均分。\n",
    "\n",
    "关于刚才的考试，现在需要求出各科的班级平均分，将结果存入一个 `ndarray` 并返回。比如：\n",
    "\n",
    "```python\n",
    "[ [60, 80,100],\n",
    "  [80, 70, 80],\n",
    "  [90, 90, 90] ]\n",
    "```\n",
    "\n",
    "语文平均分是 (60 + 80 + 90) / 3。\n",
    "\n",
    "**注意**，请用 `numpy` 中的方法。\n",
    "\n",
    "```python\n",
    "输入 [[60, 80,100], [80, 70, 80], [90, 90, 90]]\n",
    "返回 array([76.66666667, 80.        , 90.        ])\n",
    "```"
   ]
  },
  {
   "cell_type": "code",
   "execution_count": null,
   "metadata": {
    "hide_input": false,
    "id": "107C33096EB0424C8CC86238C71EFC31",
    "scrolled": false
   },
   "outputs": [],
   "source": [
    "import numpy as np\n",
    "# 提示\n",
    "lst = [ [1,2,3],\n",
    "        [1,2,3] ]\n",
    "np.mean(lst,0)"
   ]
  },
  {
   "cell_type": "code",
   "execution_count": null,
   "metadata": {
    "hide_input": false,
    "id": "59939F8CDEFA45AF92D04C9F04E41710",
    "scrolled": false
   },
   "outputs": [],
   "source": [
    "def mean_course(score_arr):\n",
    "    return np.mean(score_arr,0)"
   ]
  },
  {
   "cell_type": "code",
   "execution_count": null,
   "metadata": {
    "hide_input": false,
    "id": "0CDB76E8CE744C8A8309AEE2625921FC",
    "scrolled": false
   },
   "outputs": [],
   "source": [
    "# 测试：array([76.66666667, 80.        , 90.        ])\n",
    "mean_course([[60, 80,100], [80, 70, 80], [90, 90, 90]])"
   ]
  },
  {
   "cell_type": "markdown",
   "metadata": {
    "hide_input": false,
    "id": "CBE5CBD50C194C60B7E10561E2FBE84A",
    "mdEditEnable": false
   },
   "source": [
    "# 3. C 位出道\n",
    "\n",
    "如果总人数是奇数，C 位就只有一个人，如果是偶数，就要双 C 位。\n",
    "\n",
    "完成函数 `c_wei(s)`，参数 `s` 是只包含字母的字符串，返回位于中间的字符串。\n",
    "\n",
    "如果字符串总长是偶数，返回中间的两个字母。\n",
    "\n",
    "```\n",
    "输入 'world'\n",
    "返回 'r'\n",
    "\n",
    "输入 'sorrow'\n",
    "返回 'rr'\n",
    "```"
   ]
  },
  {
   "cell_type": "code",
   "execution_count": null,
   "metadata": {
    "hide_input": false,
    "id": "2F8D9D1C46C24B89A90992996DBC45DE",
    "scrolled": false
   },
   "outputs": [],
   "source": [
    "# 提示：偶数判断条件\n",
    "len('sorrow') % 2 == 0"
   ]
  },
  {
   "cell_type": "code",
   "execution_count": null,
   "metadata": {
    "hide_input": false,
    "id": "75C2CE86E939440A89EE8781DE8B48A0",
    "scrolled": false
   },
   "outputs": [],
   "source": [
    "def c_wei(s):\n",
    "    if len(s) % 2 != 0:\n",
    "        return s[len(s)%2+1]\n",
    "    else:\n",
    "        return s[len(s)//2-1:len(s)//2+1]"
   ]
  },
  {
   "cell_type": "code",
   "execution_count": null,
   "metadata": {
    "hide_input": false,
    "id": "370CD72DCF1845449EBA44AF6FE685CE",
    "scrolled": false
   },
   "outputs": [],
   "source": [
    "# 测试：'r'\n",
    "c_wei('world')"
   ]
  },
  {
   "cell_type": "code",
   "execution_count": null,
   "metadata": {
    "hide_input": false,
    "id": "A6125D34B97B4CC093C9C90F2791773B",
    "scrolled": false
   },
   "outputs": [],
   "source": [
    "# 测试：'rr'\n",
    "c_wei('sorrow')"
   ]
  },
  {
   "cell_type": "markdown",
   "metadata": {
    "hide_input": false,
    "id": "7DB150239F004BA98E1761C10B0FE7A8",
    "mdEditEnable": false
   },
   "source": [
    "# 4. 失散多年\n",
    "\n",
    "完成函数 `find_siblings(me, lst)`，`lst` 是一个列表，列表每一项都是只包含字母的字符串。`me` 是一个只包含字母的字符串。\n",
    "\n",
    "返回 `lst` 中所有的 `me` 的失散多年的兄/弟/姐/妹。\n",
    "\n",
    "兄弟姐妹判断条件：\n",
    "\n",
    "1. 包含的字母相同\n",
    "2. 各个字母的出现次数相同\n",
    "\n",
    "```\n",
    "输入 'shift', ['ifsht', 'shit', 'shitt', 'hisft']\n",
    "返回 ['ifsht', 'hisft']\n",
    "\n",
    "输入 'adam', ['dama', 'damn', 'mada', 'amd']\n",
    "返回 ['dama', 'mada']\n",
    "```"
   ]
  },
  {
   "cell_type": "code",
   "execution_count": null,
   "metadata": {
    "hide_input": false,
    "id": "56BDB07E78D74FDA848830D497566B92",
    "scrolled": false
   },
   "outputs": [],
   "source": [
    "# 提示\n",
    "sorted('adam') == sorted('dama')"
   ]
  },
  {
   "cell_type": "code",
   "execution_count": null,
   "metadata": {
    "hide_input": false,
    "id": "7BF2EB376C8F45A9A1D81EE8FE1A88A8",
    "scrolled": false
   },
   "outputs": [],
   "source": [
    "def find_siblings(me, lst):\n",
    "    me = sorted(me)\n",
    "    \n",
    "    ret_lst = []\n",
    "    for i in lst:\n",
    "        if me == sorted(i):\n",
    "            ret_lst.append(i)\n",
    "            \n",
    "    return ret_lst"
   ]
  },
  {
   "cell_type": "code",
   "execution_count": null,
   "metadata": {
    "hide_input": false,
    "id": "593668A269594BA1869EEF348A090967",
    "scrolled": false
   },
   "outputs": [],
   "source": [
    "# 测试：['ifsht', 'hisft']\n",
    "find_siblings('shift', ['ifsht', 'shit', 'shitt', 'hisft'])"
   ]
  },
  {
   "cell_type": "code",
   "execution_count": null,
   "metadata": {
    "hide_input": false,
    "id": "1F3C42669504420F9E27E8A6FF78560F",
    "scrolled": false
   },
   "outputs": [],
   "source": [
    "# 测试：['dama', 'mada']\n",
    "find_siblings('adam', ['dama', 'damn', 'mada', 'amd'])"
   ]
  },
  {
   "cell_type": "markdown",
   "metadata": {
    "hide_input": false,
    "id": "13AF80852C2B431D98DF8F2C2369FE67",
    "mdEditEnable": false
   },
   "source": [
    "# 5. 24 岁，是…学生\n",
    "\n",
    "创建类 `Student`。实例化 `Student`，把对象存入变量 `stu1`。\n",
    "\n",
    "**注意**，*对象*（object）又称*实例*（instance），是由*类*（class）*实例化*得到的。"
   ]
  },
  {
   "cell_type": "code",
   "execution_count": null,
   "metadata": {
    "hide_input": false,
    "id": "273BA956D4894CF683999ED3472E5D19",
    "scrolled": false
   },
   "outputs": [],
   "source": [
    "class Student: \n",
    "    def __init__(self,job,old):\n",
    "        self.job=job\n",
    "        self.old=old\n",
    "        \n",
    "        "
   ]
  },
  {
   "cell_type": "code",
   "execution_count": null,
   "metadata": {
    "hide_input": false,
    "id": "B12B3FA0EF1C48A393B17C10CE33FC02",
    "scrolled": false
   },
   "outputs": [],
   "source": [
    "stu1=Student('student', '24')"
   ]
  },
  {
   "cell_type": "code",
   "execution_count": null,
   "metadata": {
    "id": "411365606DD04FBC8C9C63DC9FEAD04D",
    "scrolled": false
   },
   "outputs": [],
   "source": [
    "stu1.job"
   ]
  },
  {
   "cell_type": "code",
   "execution_count": null,
   "metadata": {
    "id": "3E0EDD92447F43F782D2D7914B73EBB0",
    "scrolled": false
   },
   "outputs": [],
   "source": [
    "stu1.old"
   ]
  },
  {
   "cell_type": "markdown",
   "metadata": {
    "hide_input": false,
    "id": "2C22612E5F61462E8B7CD57AD42C935B",
    "mdEditEnable": false
   },
   "source": [
    "# 6. 变形计\n",
    "\n",
    "1. 修改上一题中类 `Student` 的定义：\n",
    "\n",
    "    1. 添加一个初始化方法，接收参数 `name`，作为属性保存。\n",
    "\n",
    "    2. 添加一个方法，名为 `study()`，方法的行为：输出 \"我{}就是饿死，死外边，从这里跳下去，不会学一次习。真香！\"，其中 {} 用 `name` 属性的值来替代。\n",
    "\n",
    "2. 实例化 `Student`，在初始化方法的参数中传入你的名字，存入变量 `stu2` 中。\n",
    "\n",
    "3. `print` `stu2` 的属性 `name`。\n",
    "\n",
    "4. 调用 `stu2` 的方法 `study()`。"
   ]
  },
  {
   "cell_type": "code",
   "execution_count": null,
   "metadata": {
    "hide_input": false,
    "id": "7947F3952DC548F58FBFA1FA82C39BA7",
    "scrolled": false
   },
   "outputs": [],
   "source": [
    "class Student:\n",
    "    def __init__(self, name):\n",
    "        self.name = name\n",
    "        \n",
    "    def study(self):\n",
    "        print('我{}就是饿死，死外边，从这里跳下去，不会学一次习。真香！'.format(stu2.name))"
   ]
  },
  {
   "cell_type": "code",
   "execution_count": null,
   "metadata": {
    "hide_input": false,
    "id": "34B6E7B4C2B3427D8CD152F48508B179",
    "scrolled": false
   },
   "outputs": [],
   "source": [
    "stu2 = Student('王境泽')\n",
    "print(stu2)\n",
    "stu2.name"
   ]
  },
  {
   "cell_type": "markdown",
   "metadata": {
    "hide_input": false,
    "id": "231928C3271B48E59C335174CE3E6E7C",
    "mdEditEnable": false
   },
   "source": [
    "# 7. 掰弯数组（选做）\n",
    "\n",
    "完成函数 `bend(lst, times)`，接收列表类型参数，列表中每一项都是整数。输出掰弯 `time` 次后的列表。\n",
    "\n",
    "例如：输入参数 [1,2,3,4,5] 和 2，即掰弯数组两次，输出结果应为 [9, 6]。\n",
    "\n",
    "掰弯一次的过程如下：\n",
    "\n",
    "```\n",
    "                     5/           5|         5\\          \n",
    "                    4/            4|          4\\      \n",
    "1 2 3 4 5      1 2 3/         1 2 3|       1 2 3\\       6 6 3\n",
    "----*----      ----*          ----*        ----*        ----*\n",
    "```"
   ]
  },
  {
   "cell_type": "markdown",
   "metadata": {
    "hide_input": false,
    "id": "97D745907AAA49E781D4E3C851C33350",
    "mdEditEnable": false
   },
   "source": [
    "### 基本解题思路\n",
    "\n",
    "折叠一次的过程：\n",
    "\n",
    "1. 设 `lst` 的长度为 `l`\n",
    "2. 将第 `0` 项与第 `l - (0+1)` 项相加，依次类推\n",
    "3. 将第 `i` 项与第 `l - (i+1)` 项相加\n",
    "4. 直到 `i` 的值为 `l // i`\n",
    "\n",
    "折叠 `times` 次。"
   ]
  },
  {
   "cell_type": "code",
   "execution_count": null,
   "metadata": {
    "hide_input": false,
    "id": "5190A269442A401093D386BDE0F528D4",
    "scrolled": false
   },
   "outputs": [],
   "source": [
    "def bend(lst, times):\n",
    "    for i in str(len(lst)):\n",
    "        i==0\n",
    "        lst[0]+lst[i-1]\n",
    "    \n",
    "    "
   ]
  },
  {
   "cell_type": "code",
   "execution_count": null,
   "metadata": {
    "hide_input": false,
    "id": "0F7B25714FB94FF48E40F805B8756AF9",
    "scrolled": false
   },
   "outputs": [],
   "source": [
    "# 测试：返回 [9, 6]\n",
    "bend([1, 2, 3, 4, 5], 1)"
   ]
  },
  {
   "cell_type": "code",
   "execution_count": null,
   "metadata": {
    "id": "ACC1E0308ACC42848D6A995861D5C1DE"
   },
   "outputs": [],
   "source": []
  }
 ],
 "metadata": {
  "kernelspec": {
   "display_name": "Python 3",
   "language": "python",
   "name": "python3"
  },
  "language_info": {
   "codemirror_mode": {
    "name": "ipython",
    "version": 3
   },
   "file_extension": ".py",
   "mimetype": "text/x-python",
   "name": "python",
   "nbconvert_exporter": "python",
   "pygments_lexer": "ipython3",
   "version": "3.6.6"
  }
 },
 "nbformat": 4,
 "nbformat_minor": 2
}
